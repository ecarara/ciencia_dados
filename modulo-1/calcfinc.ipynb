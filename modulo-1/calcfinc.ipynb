{
  "nbformat": 4,
  "nbformat_minor": 0,
  "metadata": {
    "colab": {
      "provenance": []
    },
    "kernelspec": {
      "name": "python3",
      "display_name": "Python 3"
    },
    "language_info": {
      "name": "python"
    }
  },
  "cells": [
    {
      "cell_type": "markdown",
      "source": [
        "# Calculadora financeira de juros compostos interativa\n",
        "\n",
        "##**Propósito**: Calculadora financeira de juros compostos\n",
        "##**Autor**: Edson Angelo Carara (edson.carara@gmail.com)\n",
        "##**Curso**: Analista de Dados com Ênfase em Mercado financeiro\n",
        "##**Turma**: 2024-11A\n",
        "\n",
        "###Trabalho prático Módulo 1 enunciado em https://online.igti.com.br/courses/7972/files/641842?wrap=1\n",
        "\n",
        "###Esta calculadora permite calcular juros compostos com base nas seguintes informações:\n",
        "Valor Final (*vf*)<br/>\n",
        "Capital Inicial (*ci*)<br/>\n",
        "Período (*t*)<br/>\n",
        "Taxa (*i*)<br/>\n",
        "<br/>\n",
        "*Fórmulas:*\n",
        "$$vf = ci * (1 + i)^t$$\n",
        "$$ci = \\frac{vf}{(1 + i)^t}$$\n",
        "$$i = \\frac{vf}{ci}^{\\frac{1}{t}} – 1$$\n",
        "$$t = \\frac{\\log(\\frac{vf}{ci})}{\\log(1 + i)}$$"
      ],
      "metadata": {
        "id": "1bXVVYDc8Gu1"
      }
    },
    {
      "cell_type": "markdown",
      "source": [
        "###Importando biblioteca matemática"
      ],
      "metadata": {
        "id": "fn0qy97K-SVx"
      }
    },
    {
      "cell_type": "code",
      "source": [
        "import math"
      ],
      "metadata": {
        "id": "nVW8Z-EM-ZDR"
      },
      "execution_count": 2,
      "outputs": []
    },
    {
      "cell_type": "markdown",
      "source": [
        "###Obtém a escolha do usuário entre as opções fornecidas.\n",
        "\n",
        "*Parameters*<br/>\n",
        "`mensagem`: `str`<br/>\n",
        "<ol>Mensagem que vai ser exibida para o usuário no momento do input</ol>\n",
        "\n",
        "`opcoes`: `list[str]`<br/>\n",
        "<ol>Lista de opções válidas para escolha</ol>\n",
        "\n",
        "`opcoesEmMinusculas`: `bool` *Opcional*\n",
        "<ol>Indica se as opções devem ser convertidas para minúsculas. Por padrão é True.</ol>\n",
        "\n",
        "*Returns*<br/>\n",
        "`str`\n",
        "<ol>A opção escolhida pelo usuário</ol>"
      ],
      "metadata": {
        "id": "3BYY_WBlWTIk"
      }
    },
    {
      "cell_type": "code",
      "source": [
        "def ObterEscolha(mensagem: str,opcoes: list[str], opcoesEmMinusculas: bool = True) -> str:\n",
        "    input_valido = False\n",
        "    while not input_valido:\n",
        "        escolha = input(f\"{mensagem} ({'/'.join(opcoes)}): \").strip().lower()\n",
        "        if not opcoesEmMinusculas :\n",
        "            escolha = escolha.upper()\n",
        "\n",
        "        if escolha in opcoes:\n",
        "            input_valido = True\n",
        "        else:\n",
        "            print(f\"Opção inválida. Por favor, escolha entre {'/'.join(opcoes)}.\")\n",
        "    return escolha"
      ],
      "metadata": {
        "id": "pI2Lvu3X6q6m"
      },
      "execution_count": 5,
      "outputs": []
    },
    {
      "cell_type": "markdown",
      "source": [
        "###Permite o usuário selecionar uma calculadora válida e retorna o seu código, sendo:###\n",
        "\n",
        "*vf*: Valor Final<br/>\n",
        "*ci*: Capital Inicial<br/>\n",
        "*t*: Período<br/>\n",
        "*i*: Taxa<br/>\n",
        "<br/>\n",
        "*Returns*<br/>\n",
        "Uma string que representa o código da calculadora"
      ],
      "metadata": {
        "id": "-K3bUjvV-tah"
      }
    },
    {
      "cell_type": "code",
      "source": [
        "def EscolherCalculadora() -> str:\n",
        "    print(\"Valor Final (vf), Capital Inicial (ci), Período (t) e Taxa (i)\")\n",
        "    opcoes = ['vf', 'ci', 't', 'i']\n",
        "    return ObterEscolha(\"O que você gostaria de calcular?\", opcoes)"
      ],
      "metadata": {
        "id": "NulVdHQZ-c5Y"
      },
      "execution_count": 3,
      "outputs": []
    },
    {
      "cell_type": "markdown",
      "source": [
        "###Obtém informações numéricas que são digitadas pelo usuario.\n",
        "*Parameters*<br/>\n",
        "`mensagem`: `str`\n",
        "<ol>Mensagem que vai ser exibida para o usuário no momento do input</ol>\n",
        "\n",
        "`podeSerZero`: `bool` *Opcional*<br/>\n",
        "<ol>Indica se o valor informado pode ser zero. Por padrão é True.</ol>\n",
        "\n",
        "*Returns*\n",
        "   <p>O valor numérico digitado pelo usuário</p>\n",
        "\n"
      ],
      "metadata": {
        "id": "0qoEBWF-AHdW"
      }
    },
    {
      "cell_type": "code",
      "source": [
        "def ObterVariavel(mensagem: str, podeSerZero: bool = True) -> float:\n",
        "    input_valido = False\n",
        "    while not input_valido:\n",
        "        try:\n",
        "            print(f\"{mensagem}:\")\n",
        "            valor = input().strip()\n",
        "            valor = float(valor)\n",
        "            if( valor == 0 and not podeSerZero ):\n",
        "                print(f\"O valor informado {valor} não pode ser zero.\")\n",
        "            elif( valor < 0):\n",
        "                print(f\"O valor informado {valor} não pode ser negativo.\")\n",
        "            else:\n",
        "                return valor\n",
        "        except:\n",
        "            print(f\"{valor} não é um número válido. Por favor informar o número no padrão 999.99\")"
      ],
      "metadata": {
        "id": "fv53Yysn-bzD"
      },
      "execution_count": 4,
      "outputs": []
    },
    {
      "cell_type": "markdown",
      "source": [
        "###Obtém a informação digitada do capital inicial\n",
        "\n",
        "*Returns*<br/>\n",
        "`float`<br/>\n",
        "<ol>O valor do capital inicial digitado pelo usuário</ol>\n"
      ],
      "metadata": {
        "id": "zanLrzURYv5x"
      }
    },
    {
      "cell_type": "code",
      "source": [
        "def ObterCapitalInicial() -> float:\n",
        "    return ObterVariavel(\"Informar o valor do Capital Inicial (ci)\", False)"
      ],
      "metadata": {
        "id": "yHrVGdkc8FwQ"
      },
      "execution_count": 6,
      "outputs": []
    },
    {
      "cell_type": "markdown",
      "source": [
        "###Obtém a informação digitada do capital final\n",
        "\n",
        "*Returns*<br/>\n",
        "`float`\n",
        "<ol>O valor do capital final digitado pelo usuário</ol>\n"
      ],
      "metadata": {
        "id": "frD2pqkkZmXr"
      }
    },
    {
      "cell_type": "code",
      "source": [
        "def ObterCapitalFinal() -> float:\n",
        "    return ObterVariavel(\"Informar o valor do Capital Final (cf)\", False)"
      ],
      "metadata": {
        "id": "3dLFUBQRYtzn"
      },
      "execution_count": 7,
      "outputs": []
    },
    {
      "cell_type": "markdown",
      "source": [
        "###Obtém a informação digitada do período\n",
        "\n",
        "*Returns*<br/>\n",
        "`float`\n",
        "<ol>O valor do perído digitado pelo usuário</ol>\n"
      ],
      "metadata": {
        "id": "POBvhZ0naCPF"
      }
    },
    {
      "cell_type": "code",
      "source": [
        "def ObterPeriodo() -> float:\n",
        "    return ObterVariavel(\"Informar o Período (t)\", False)"
      ],
      "metadata": {
        "id": "BY2dTMiNZk-K"
      },
      "execution_count": 8,
      "outputs": []
    },
    {
      "cell_type": "markdown",
      "source": [
        "###Obtém a informação digitada da taxa\n",
        "\n",
        "*Returns*<br/>\n",
        "`float`\n",
        "<ol>O valor da taxa digitado pelo usuário</ol>\n"
      ],
      "metadata": {
        "id": "GOE8BPQWaURu"
      }
    },
    {
      "cell_type": "code",
      "source": [
        "def ObterTaxa() -> float:\n",
        "    return ObterVariavel(\"Informar a Taxa (i)\") / 100"
      ],
      "metadata": {
        "id": "0F7dPq7paNs-"
      },
      "execution_count": 9,
      "outputs": []
    },
    {
      "cell_type": "markdown",
      "source": [
        "###Calculadora do valor final"
      ],
      "metadata": {
        "id": "NTAAioSad5Fb"
      }
    },
    {
      "cell_type": "code",
      "source": [
        "def CalculadoraValorFinal() -> None:\n",
        "    ci = ObterCapitalInicial()\n",
        "    i = ObterTaxa()\n",
        "    t = ObterPeriodo()\n",
        "    vf = ci * (1 + i)**t\n",
        "    print(f\"O Valor Final é: {vf:.2f}\")"
      ],
      "metadata": {
        "id": "drKwGkGwafe8"
      },
      "execution_count": 10,
      "outputs": []
    },
    {
      "cell_type": "markdown",
      "source": [
        "###Calculadora do valor inicial"
      ],
      "metadata": {
        "id": "i9OarzXTeDtz"
      }
    },
    {
      "cell_type": "code",
      "source": [
        "def CalculaorCapitalInicial() -> None:\n",
        "    vf = ObterCapitalFinal()\n",
        "    i = ObterTaxa()\n",
        "    t = ObterPeriodo()\n",
        "    ci = vf / (1 + i)**t\n",
        "    print(f\"O Capital Inicial é: {ci:.2f}\")"
      ],
      "metadata": {
        "id": "N9lun0iGaBeZ"
      },
      "execution_count": 11,
      "outputs": []
    },
    {
      "cell_type": "markdown",
      "source": [
        "###Calculadora da taxa"
      ],
      "metadata": {
        "id": "X5MpOCyVeXAb"
      }
    },
    {
      "cell_type": "code",
      "source": [
        "def CalculadoraTaxa() -> None:\n",
        "    vf = ObterCapitalFinal()\n",
        "    ci = ObterCapitalInicial()\n",
        "    t = ObterPeriodo()\n",
        "    i = ((vf / ci)**(1/t)) - 1\n",
        "    print(f\"A Taxa é: {i:.2%}\")"
      ],
      "metadata": {
        "id": "ApQV3kImeLyY"
      },
      "execution_count": 12,
      "outputs": []
    },
    {
      "cell_type": "markdown",
      "source": [
        "###Calculadora de período"
      ],
      "metadata": {
        "id": "O0yVqpOgehiG"
      }
    },
    {
      "cell_type": "code",
      "source": [
        "def CalculadoraPeriodo() -> None:\n",
        "    vf = ObterCapitalFinal()\n",
        "    ci = ObterCapitalInicial()\n",
        "    i = ObterTaxa()\n",
        "    t = math.log(vf / ci) / math.log(1 + i)\n",
        "    print(f\"O Período é: {t:.2f}\")"
      ],
      "metadata": {
        "id": "CuFi8ekAeU5O"
      },
      "execution_count": 13,
      "outputs": []
    },
    {
      "cell_type": "markdown",
      "source": [
        "###Calcula o juros compostos com base na escolha do usuário"
      ],
      "metadata": {
        "id": "YkYV5WU3e7FE"
      }
    },
    {
      "cell_type": "code",
      "source": [
        "def CalculadoraFinanceiraJurosCompostos() -> None:\n",
        "    while True:\n",
        "        opcao = EscolherCalculadora()\n",
        "        if( opcao == \"vf\"):\n",
        "            CalculadoraValorFinal()\n",
        "        elif( opcao == \"ci\"):\n",
        "            CalculaorCapitalInicial()\n",
        "        elif( opcao == \"i\"):\n",
        "            CalculadoraTaxa()\n",
        "        elif( opcao == \"t\"):\n",
        "            CalculadoraPeriodo()\n",
        "\n",
        "        print()\n",
        "        resposta = ObterEscolha(\"Deseja fazer mais algum cálculo?\", [\"S\", \"N\"], False)\n",
        "        if resposta == \"N\":\n",
        "            break"
      ],
      "metadata": {
        "id": "2rGqeQRiegfC"
      },
      "execution_count": 16,
      "outputs": []
    },
    {
      "cell_type": "markdown",
      "source": [
        "###Calcula o juros compostos com base na escolha do usuário"
      ],
      "metadata": {
        "id": "1XpWoe9kfsgQ"
      }
    },
    {
      "cell_type": "code",
      "source": [
        "CalculadoraFinanceiraJurosCompostos()"
      ],
      "metadata": {
        "colab": {
          "base_uri": "https://localhost:8080/"
        },
        "id": "aBqZZZxNe-mR",
        "outputId": "085ba8c9-865e-425f-d867-3fe4d5e98326"
      },
      "execution_count": 17,
      "outputs": [
        {
          "name": "stdout",
          "output_type": "stream",
          "text": [
            "Valor Final (vf), Capital Inicial (ci), Período (t) e Taxa (i)\n",
            "O que você gostaria de calcular? (vf/ci/t/i): vf\n",
            "Informar o valor do Capital Inicial (ci):\n",
            "1000\n",
            "Informar a Taxa (i):\n",
            "5\n",
            "Informar o Período (t):\n",
            "10\n",
            "O Valor Final é: 1628.89\n",
            "\n",
            "Deseja fazer mais algum cálculo? (S/N): d\n",
            "Opção inválida. Por favor, escolha entre S/N.\n",
            "Deseja fazer mais algum cálculo? (S/N): s\n",
            "Valor Final (vf), Capital Inicial (ci), Período (t) e Taxa (i)\n",
            "O que você gostaria de calcular? (vf/ci/t/i): ci\n",
            "Informar o valor do Capital Final (cf):\n",
            "1628.89\n",
            "Informar a Taxa (i):\n",
            "5\n",
            "Informar o Período (t):\n",
            "10\n",
            "O Capital Inicial é: 1000.00\n",
            "\n",
            "Deseja fazer mais algum cálculo? (S/N): s\n",
            "Valor Final (vf), Capital Inicial (ci), Período (t) e Taxa (i)\n",
            "O que você gostaria de calcular? (vf/ci/t/i): t\n",
            "Informar o valor do Capital Final (cf):\n",
            "1628.89\n",
            "Informar o valor do Capital Inicial (ci):\n",
            "1000\n",
            "Informar a Taxa (i):\n",
            "5\n",
            "O Período é: 10.00\n",
            "\n",
            "Deseja fazer mais algum cálculo? (S/N): s\n",
            "Valor Final (vf), Capital Inicial (ci), Período (t) e Taxa (i)\n",
            "O que você gostaria de calcular? (vf/ci/t/i): i\n",
            "Informar o valor do Capital Final (cf):\n",
            "1628.89\n",
            "Informar o valor do Capital Inicial (ci):\n",
            "1000\n",
            "Informar o Período (t):\n",
            "10\n",
            "A Taxa é: 5.00%\n",
            "\n",
            "Deseja fazer mais algum cálculo? (S/N): n\n"
          ]
        }
      ]
    }
  ]
}